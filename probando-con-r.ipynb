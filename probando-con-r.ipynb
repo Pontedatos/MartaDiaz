{
 "cells": [
  {
   "cell_type": "markdown",
   "metadata": {},
   "source": [
    "# Prueba con R\n",
    "Esta práctica consiste en la creación de un gráfico mediante la utilización del lenguaje de programación R. \n"
   ]
  },
  {
   "cell_type": "markdown",
   "metadata": {},
   "source": [
    "## Instalar librerías "
   ]
  },
  {
   "cell_type": "markdown",
   "metadata": {},
   "source": [
    "El primer paso que tendríamos que llevar a cabo sería el de la instalación de las librerías con el objetivo de extender las funcionalidades del lenguaje con el que trabajamos, en este caso, R. Para ello sería preciso emplear la siguiente función:\n",
    "\n",
    "```\n",
    "install.packages (\"ggplot2\")\n",
    "```\n",
    "\n",
    "Esta operación no pudo ser realizada con éxito en el aula, por lo que, en su defecto, se optó por probar la opción de \"importar librerías\".\n"
   ]
  },
  {
   "cell_type": "markdown",
   "metadata": {},
   "source": [
    "## Importar librerías\n",
    "\n",
    "Importamos un paquete especializado en el diseño de gráficos, a fin de conseguir una mejor visualización de los datos que crearemos a continuación. Para este propósito la función requerida es:"
   ]
  },
  {
   "cell_type": "code",
   "execution_count": 2,
   "metadata": {},
   "outputs": [],
   "source": [
    "library(ggplot2)"
   ]
  },
  {
   "cell_type": "markdown",
   "metadata": {},
   "source": [
    "## Crear datos\n",
    "\n",
    "Partiendo del código de un gráfico proporcionado por el profesor, nos limitamos a modifcar los diferentes campos de variables y valores para obtener una nueva gráfica con los datos pertinentes."
   ]
  },
  {
   "cell_type": "code",
   "execution_count": 4,
   "metadata": {},
   "outputs": [
    {
     "data": {
      "image/png": "[encoded data removed]",
      "text/plain": [
       "plot without title"
      ]
     },
     "metadata": {
      "image/png": {
       "height": 420,
       "width": 420
      }
     },
     "output_type": "display_data"
    }
   ],
   "source": [
    "# create a dataset\n",
    "bajas <- c(rep(\"Tanques\" , 2) , rep(\"Artillería\" , 2) , rep(\"Aeronaves\" , 2) )\n",
    "paises <- rep(c(\"Rusia\" , \"Ucrania\") , 3)\n",
    "value <- abs(rnorm(12 , 0 , 15))\n",
    "data <- data.frame(bajas,paises,value)\n",
    " \n",
    "# Grouped\n",
    "ggplot(data, aes(fill=paises, y=value, x=bajas)) + \n",
    "    geom_bar(position=\"dodge\", stat=\"identity\")"
   ]
  },
  {
   "cell_type": "markdown",
   "metadata": {},
   "source": [
    "Tras realizar estos pasos de forma simultánea en el aula, el gráfico resultante no fue el mismo para todas las alumnas. No se pudo descifrar el problema, y las dudas continúan vigentes: ¿cómo es posible que utilizando exactamente los mismos datos no se obtenga un gráfico idéntico? "
   ]
  },
  {
   "cell_type": "code",
   "execution_count": null,
   "metadata": {},
   "outputs": [],
   "source": []
  }
 ],
 "metadata": {
  "kernelspec": {
   "display_name": "R",
   "language": "R",
   "name": "ir"
  },
  "language_info": {
   "codemirror_mode": "r",
   "file_extension": ".r",
   "mimetype": "text/x-r-source",
   "name": "R",
   "pygments_lexer": "r",
   "version": "4.1.0"
  }
 },
 "nbformat": 4,
 "nbformat_minor": 4
}
